{
 "cells": [
  {
   "cell_type": "markdown",
   "metadata": {},
   "source": [
    "Accepts a list where each element corresponds to the following regex: [A-Z][01]+ \n",
    "\n",
    "['A1B1C0', 'D0E1B0','C1', 'B0', 'E0', 'D1']\n",
    "\n",
    "The task is to flip 0's and 1's inside each string. Output:\n",
    "\n",
    "['A0B0C1', 'D1E0B1','C0', 'B1', 'E1', 'D0']"
   ]
  },
  {
   "cell_type": "code",
   "execution_count": 7,
   "metadata": {
    "collapsed": true
   },
   "outputs": [],
   "source": [
    "lst = ['A1B1C0', 'D0E1B0','C1', 'B0', 'E0', 'D1']"
   ]
  },
  {
   "cell_type": "code",
   "execution_count": 8,
   "metadata": {
    "collapsed": false
   },
   "outputs": [
    {
     "name": "stdout",
     "output_type": "stream",
     "text": [
      "['A0B0C1', 'D1E0B1', 'C0', 'B1', 'E1', 'D0']\n"
     ]
    }
   ],
   "source": [
    "nodes = [string[::2] for string in lst] \n",
    "flags = [string[1::2] for string in lst] \n",
    "\n",
    "flags = [''.join('1' if x == '0' else '0' for x in string) for string in flags]  # swap 0's and 1's\n",
    "\n",
    "result = []\n",
    "tmp = ''\n",
    "for node, flag in zip(nodes, flags):\n",
    "    for i, j in zip(node, flag):\n",
    "        tmp += ''.join([i,j])\n",
    "    result.append(tmp)\n",
    "    tmp = ''\n",
    "\n",
    "print result"
   ]
  },
  {
   "cell_type": "code",
   "execution_count": 9,
   "metadata": {
    "collapsed": false
   },
   "outputs": [
    {
     "name": "stdout",
     "output_type": "stream",
     "text": [
      "['A0B0C1', 'D1E0B1', 'C0', 'B1', 'E1', 'D0']\n"
     ]
    }
   ],
   "source": [
    "for i, string in enumerate(lst):\n",
    "    lst[i] = string.replace('0', '2').replace('1','0').replace('2', '1')\n",
    "\n",
    "print lst"
   ]
  },
  {
   "cell_type": "code",
   "execution_count": null,
   "metadata": {
    "collapsed": true
   },
   "outputs": [],
   "source": [
    "\n"
   ]
  }
 ],
 "metadata": {
  "kernelspec": {
   "display_name": "Python 2",
   "language": "python",
   "name": "python2"
  },
  "language_info": {
   "codemirror_mode": {
    "name": "ipython",
    "version": 2
   },
   "file_extension": ".py",
   "mimetype": "text/x-python",
   "name": "python",
   "nbconvert_exporter": "python",
   "pygments_lexer": "ipython2",
   "version": "2.7.11"
  }
 },
 "nbformat": 4,
 "nbformat_minor": 0
}
