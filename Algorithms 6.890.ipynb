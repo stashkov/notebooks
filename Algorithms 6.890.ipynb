{
 "cells": [
  {
   "cell_type": "markdown",
   "metadata": {},
   "source": [
    "Satisfiability\n",
    "--------------\n",
    "This is the very first problem that was originally prooved by Cook and Levin to be NP-Complete. (Cook-Levin Theorem: satisfiability is NP-Complete)\n",
    "\n",
    "**SAT (Satisfiability):**  \n",
    "Given: a Boolean formula $\\varphi$ with $\\land$, $\\lor$, $\\lnot$, over $n$ variables $x_1...x_n$  \n",
    "Question: Is there an assignment $s \\in \\{0,1\\}^n$ such that $\\varphi(s) = 1$"
   ]
  },
  {
   "cell_type": "code",
   "execution_count": 12,
   "metadata": {
    "collapsed": false
   },
   "outputs": [],
   "source": [
    "# here be python\n",
    "variables = [1,4,5] # indicies of x\n",
    "negation = [1,0,1] # 1 means the variable is negated\n",
    "# so this would result (for 3SAT: (not(x1)) and x4 and not(x5))"
   ]
  },
  {
   "cell_type": "markdown",
   "metadata": {},
   "source": [
    "**Circuit SAT:**  \n",
    "This is a helpful way to think of the SAT if you come from electrical engineering background.\n",
    "Formula expressed as circuit of gates, where feedback is forbidden (so it should be directed acyclic graph).\n",
    "Circuit SAT is NP-Complete."
   ]
  },
  {
   "cell_type": "markdown",
   "metadata": {},
   "source": [
    "**CNF SAT:**  \n",
    "CNF is in Conjunctive Normal Form.  \n",
    "formula = AND of clauses  \n",
    "clause = OR of literals  \n",
    "literal = $x_i$ or $\\lnot x_i$  "
   ]
  },
  {
   "cell_type": "markdown",
   "metadata": {},
   "source": [
    "We can view CNF SAT as a **bipirtite graph**, with variables on one side and clauses on the other side.   \n",
    "\n",
    "More formally, given $G = (V,E) \\quad s.t. V = V_1 \\cap V_2 \\quad and \\quad V_1 \\cup V_2 \\neq \\emptyset$ and CNF formula $\\varphi$.  \n",
    "Let $\\mid$ # of clauses in $\\varphi\\mid$ = $\\mid V_1 \\mid$ and $\\mid$variables in $\\varphi\\mid$ = $\\mid V_2 \\mid$  \n",
    "Solid edges will connect variables with clauses, and dashed edges connect negated variables with clauses.  \n",
    "\n",
    "In general, each clause is going to have degree 3"
   ]
  },
  {
   "cell_type": "markdown",
   "metadata": {},
   "source": [
    "**CNF SAT** is the special case of **SAT**.  \n",
    "**3SAT** is a special case of **CNF SAT**."
   ]
  },
  {
   "cell_type": "markdown",
   "metadata": {},
   "source": [
    "**3SAT:**  \n",
    "clause = OR of 3 literals"
   ]
  },
  {
   "cell_type": "markdown",
   "metadata": {},
   "source": [
    "**3SAT-5 (max five occurence 3 SAT):**  \n",
    "each variable occurs in $\\leq5$ clauses"
   ]
  },
  {
   "cell_type": "markdown",
   "metadata": {},
   "source": [
    "**Monotone 3SAT:**  \n",
    "Each clause is all positive or all negative"
   ]
  },
  {
   "cell_type": "markdown",
   "metadata": {},
   "source": [
    "All of the above are hard problems. Now let's look at the problems that are $\\in P$"
   ]
  },
  {
   "cell_type": "markdown",
   "metadata": {},
   "source": []
  },
  {
   "cell_type": "markdown",
   "metadata": {},
   "source": [
    "**2SAT:**  \n",
    "clause = OR of 2 literals \n",
    "\n",
    "2SAT $\\in P$. Because we can interpret each clause $(x_1 \\lor x_2)$ as $\\lnot x_1 \\implies x_2$"
   ]
  },
  {
   "cell_type": "markdown",
   "metadata": {},
   "source": [
    "**MAX-2-SAT:**  \n",
    "satisfy k of clauses  \n",
    "MAX-2-SAT $\\in NP-hard$"
   ]
  },
  {
   "cell_type": "markdown",
   "metadata": {},
   "source": [
    "**Horn SAT:** (special case of CNF SAT)  \n",
    "each clause has $\\leq 1$ positive literal  \n",
    "$\\in P$"
   ]
  },
  {
   "cell_type": "markdown",
   "metadata": {},
   "source": [
    "**dual Horn SAT:**  \n",
    "each clause has $\\leq 1$ negative literal  \n",
    "$\\in P$"
   ]
  },
  {
   "cell_type": "markdown",
   "metadata": {},
   "source": [
    "why always CNF, what about DNF?  \n",
    "**DNF SAT:**  \n",
    "disjunctive normal formal (DNF): OR(AND(literals)). Turns out this is not very interesting because it is $\\in P$    \n",
    "they way you solve it is that you just have to set at least one clause to true, then the whole formula is true"
   ]
  },
  {
   "cell_type": "markdown",
   "metadata": {},
   "source": [
    "**1-in-3SAT** (exactly-1-3SAT)    \n",
    "clause = exactly 1 of 3 variables is true (TFF,FTF,FFT)  \n",
    "$\\in NP$"
   ]
  },
  {
   "cell_type": "markdown",
   "metadata": {
    "collapsed": true
   },
   "source": [
    "**Monotone 1-in-3SAT**  \n",
    "literals = variables  \n",
    "$\\in NP$ "
   ]
  },
  {
   "cell_type": "markdown",
   "metadata": {},
   "source": [
    "**Monotone not-exactly-1-3SAT**   \n",
    "clause = 0,2, or 3 of vars true (this choice is local to the clause, meaning one clause can have 0, the other one 2)  \n",
    "$\\in P$  \n",
    "if you set $x_1 = TRUE$  \n",
    "$x_i \\implies ( x_j \\lor x_k)$  \n",
    "$\\lnot x_i \\lor x_j \\lor x_k$ and this one is a dual Horn SAT"
   ]
  },
  {
   "cell_type": "markdown",
   "metadata": {},
   "source": [
    "**NAE 3SAT** (not all equal)  \n",
    "clause = $NAE(x_i, x_j, x_k)$  \n"
   ]
  },
  {
   "cell_type": "markdown",
   "metadata": {},
   "source": [
    "**Monotone NAE 3SAT**  \n",
    "variables = literals (no negations allowed)"
   ]
  },
  {
   "cell_type": "markdown",
   "metadata": {},
   "source": [
    "The last two do not allow cases TTT and FFF. This means we can think about 3-uniform hypergraphs. Triple of things that are not colored the same."
   ]
  },
  {
   "cell_type": "markdown",
   "metadata": {},
   "source": [
    "From lower bound perspective the important ones are:  \n",
    "regular 3SAT, exactrly-1-in-3SAT, NAE 3SAT"
   ]
  },
  {
   "cell_type": "markdown",
   "metadata": {},
   "source": [
    "Schaefer's Dichotomy Theorem:\n",
    "every problem you can think of is either polynomial of NP complete. \n",
    "36:00"
   ]
  }
 ],
 "metadata": {
  "kernelspec": {
   "display_name": "Python 2",
   "language": "python",
   "name": "python2"
  },
  "language_info": {
   "codemirror_mode": {
    "name": "ipython",
    "version": 2
   },
   "file_extension": ".py",
   "mimetype": "text/x-python",
   "name": "python",
   "nbconvert_exporter": "python",
   "pygments_lexer": "ipython2",
   "version": "2.7.11"
  }
 },
 "nbformat": 4,
 "nbformat_minor": 0
}
