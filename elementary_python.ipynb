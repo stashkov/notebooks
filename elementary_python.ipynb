{
 "cells": [
  {
   "cell_type": "markdown",
   "metadata": {},
   "source": [
    "## Running total"
   ]
  },
  {
   "cell_type": "code",
   "execution_count": 1,
   "metadata": {
    "collapsed": true
   },
   "outputs": [],
   "source": [
    "def running_total(*args):\n",
    "    sum = 0\n",
    "    for a in args:\n",
    "        sum += a\n",
    "    return sum"
   ]
  },
  {
   "cell_type": "code",
   "execution_count": 3,
   "metadata": {
    "collapsed": false
   },
   "outputs": [
    {
     "data": {
      "text/plain": [
       "18"
      ]
     },
     "execution_count": 3,
     "metadata": {},
     "output_type": "execute_result"
    }
   ],
   "source": [
    "running_total(5,6,7)"
   ]
  },
  {
   "cell_type": "markdown",
   "metadata": {},
   "source": [
    "## Regex match with groups"
   ]
  },
  {
   "cell_type": "code",
   "execution_count": 43,
   "metadata": {
    "collapsed": false
   },
   "outputs": [],
   "source": [
    "import re\n",
    "string = 'dbo.table_name.field_name'\n",
    "m = re.match(r'(\\w+).(\\w+).(\\w+)', string)"
   ]
  },
  {
   "cell_type": "code",
   "execution_count": 44,
   "metadata": {
    "collapsed": false
   },
   "outputs": [
    {
     "name": "stdout",
     "output_type": "stream",
     "text": [
      "whole match: dbo.table_name.field_name\n",
      "schema:      dbo\n",
      "table:       table_name\n",
      "field:       field_name\n",
      "tuple:       ('dbo', 'table_name', 'field_name')\n"
     ]
    }
   ],
   "source": [
    "print 'whole match:', m.group(0)\n",
    "print 'schema:     ', m.group(1)\n",
    "print 'table:      ', m.group(2)\n",
    "print 'field:      ', m.group(3)\n",
    "print 'tuple:      ', m.groups()"
   ]
  },
  {
   "cell_type": "code",
   "execution_count": 59,
   "metadata": {
    "collapsed": false
   },
   "outputs": [],
   "source": [
    "# match a string which has 3 groups of 2 letters in consequtive order\n",
    "string_match = 'AAKKEE'\n",
    "string_mis   = 'AKEKEA'\n",
    "pattern = r'([A-Z])\\1([A-Z])\\2([A-Z])\\3'"
   ]
  },
  {
   "cell_type": "code",
   "execution_count": 61,
   "metadata": {
    "collapsed": false
   },
   "outputs": [
    {
     "name": "stdout",
     "output_type": "stream",
     "text": [
      "<_sre.SRE_Match object at 0x0000000003A05328>\n",
      "None\n"
     ]
    }
   ],
   "source": [
    "print re.match(pattern, string_match)\n",
    "print re.match(pattern, string_miss)"
   ]
  },
  {
   "cell_type": "markdown",
   "metadata": {},
   "source": [
    "## Something else"
   ]
  },
  {
   "cell_type": "code",
   "execution_count": null,
   "metadata": {
    "collapsed": true
   },
   "outputs": [],
   "source": []
  }
 ],
 "metadata": {
  "kernelspec": {
   "display_name": "Python 2",
   "language": "python",
   "name": "python2"
  },
  "language_info": {
   "codemirror_mode": {
    "name": "ipython",
    "version": 2
   },
   "file_extension": ".py",
   "mimetype": "text/x-python",
   "name": "python",
   "nbconvert_exporter": "python",
   "pygments_lexer": "ipython2",
   "version": "2.7.11"
  }
 },
 "nbformat": 4,
 "nbformat_minor": 0
}
