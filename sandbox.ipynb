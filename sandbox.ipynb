{
 "cells": [
  {
   "cell_type": "code",
   "execution_count": 3,
   "metadata": {
    "collapsed": false
   },
   "outputs": [],
   "source": [
    "d = dict([('A',0), ('B',0)])"
   ]
  },
  {
   "cell_type": "code",
   "execution_count": 4,
   "metadata": {
    "collapsed": false
   },
   "outputs": [
    {
     "name": "stdout",
     "output_type": "stream",
     "text": [
      "{'A': 0, 'B': 0}\n"
     ]
    }
   ],
   "source": [
    "print d"
   ]
  },
  {
   "cell_type": "code",
   "execution_count": 5,
   "metadata": {
    "collapsed": false
   },
   "outputs": [
    {
     "data": {
      "text/plain": [
       "0"
      ]
     },
     "execution_count": 5,
     "metadata": {},
     "output_type": "execute_result"
    }
   ],
   "source": [
    "d['A']"
   ]
  },
  {
   "cell_type": "code",
   "execution_count": 10,
   "metadata": {
    "collapsed": false
   },
   "outputs": [],
   "source": [
    "d[(('A',0), ('B',0))] = d['A']"
   ]
  },
  {
   "cell_type": "code",
   "execution_count": 11,
   "metadata": {
    "collapsed": false
   },
   "outputs": [
    {
     "name": "stdout",
     "output_type": "stream",
     "text": [
      "{'A': 0, (('A', 0), ('B', 0)): 0, 'B': 0}\n"
     ]
    }
   ],
   "source": [
    "print d"
   ]
  },
  {
   "cell_type": "code",
   "execution_count": 15,
   "metadata": {
    "collapsed": true
   },
   "outputs": [],
   "source": []
  },
  {
   "cell_type": "raw",
   "metadata": {},
   "source": []
  },
  {
   "cell_type": "code",
   "execution_count": 17,
   "metadata": {
    "collapsed": false
   },
   "outputs": [],
   "source": [
    "import urllib2\n",
    "import re\n",
    "pattern = '<td>\\</td>'\n",
    "url_base = 'http://database.research4agrinnovation.org/show/'\n",
    "#url_base = 'http://127.0.0.1:8000/show/'"
   ]
  },
  {
   "cell_type": "code",
   "execution_count": 18,
   "metadata": {
    "collapsed": false
   },
   "outputs": [],
   "source": [
    "for i in range(1,122):\n",
    "    url = url_base + str(i)\n",
    "    response = urllib2.urlopen(url)\n",
    "    html = response.read()\n",
    "    if pattern in html:\n",
    "        print url\n"
   ]
  },
  {
   "cell_type": "code",
   "execution_count": null,
   "metadata": {
    "collapsed": true
   },
   "outputs": [],
   "source": []
  },
  {
   "cell_type": "code",
   "execution_count": 48,
   "metadata": {
    "collapsed": true
   },
   "outputs": [],
   "source": [
    "d = {}\n",
    "d['A'] = ['C', 'D', 'E']\n",
    "d['B'] = ['Z']\n",
    "d['O'] = []"
   ]
  },
  {
   "cell_type": "code",
   "execution_count": 49,
   "metadata": {
    "collapsed": false
   },
   "outputs": [
    {
     "name": "stdout",
     "output_type": "stream",
     "text": [
      "{'A': ['C', 'D', 'E'], 'B': ['Z'], 'O': []}\n"
     ]
    }
   ],
   "source": [
    "print d"
   ]
  },
  {
   "cell_type": "code",
   "execution_count": 50,
   "metadata": {
    "collapsed": false
   },
   "outputs": [
    {
     "name": "stdout",
     "output_type": "stream",
     "text": [
      "['C', 'D', 'E']\n",
      "False False\n",
      "['Z']\n",
      "False False\n",
      "[]\n",
      "False True\n",
      "{'A': ['C', 'D', 'E'], 'B': ['Z'], 'O': []}\n"
     ]
    }
   ],
   "source": [
    "for key, value in d.items():\n",
    "    print d[key]\n",
    "    print d[key] is [], d[key] == []\n",
    "    if d[key] == []:  # remove key if it has empty values\n",
    "        del d[key]\n",
    "\n",
    "print d"
   ]
  },
  {
   "cell_type": "code",
   "execution_count": 64,
   "metadata": {
    "collapsed": true
   },
   "outputs": [],
   "source": [
    "d = {}\n",
    "d['A1B1'] = ['D1', 'U1']\n",
    "d['A1'] = ['P0']\n",
    "d['B1'] = ['P0']"
   ]
  },
  {
   "cell_type": "code",
   "execution_count": 61,
   "metadata": {
    "collapsed": false
   },
   "outputs": [
    {
     "name": "stdout",
     "output_type": "stream",
     "text": [
      "{'A1B1': ['D1', 'U1']}\n"
     ]
    }
   ],
   "source": [
    "pick = 'A1B1'\n",
    "for key, values in d.items():\n",
    "    if key != pick and key in pick:\n",
    "        del d[key]\n",
    "\n",
    "print d"
   ]
  },
  {
   "cell_type": "code",
   "execution_count": 65,
   "metadata": {
    "collapsed": false
   },
   "outputs": [
    {
     "name": "stdout",
     "output_type": "stream",
     "text": [
      "{'A1': ['P0'], 'B1': ['P0']}\n"
     ]
    }
   ],
   "source": [
    "pick = 'A1'\n",
    "for key, values in d.items():\n",
    "    if key != pick and pick in key:\n",
    "        del d[key]\n",
    "\n",
    "print d"
   ]
  },
  {
   "cell_type": "code",
   "execution_count": 28,
   "metadata": {
    "collapsed": false
   },
   "outputs": [
    {
     "name": "stdout",
     "output_type": "stream",
     "text": [
      "['C0', 'A0', 'B0']\n"
     ]
    }
   ],
   "source": [
    "nodes = ['C0', 'A0B0']\n",
    "n = 2\n",
    "for node in nodes:\n",
    "    if len(node)>n:\n",
    "        for x in [node[i * n:i * n+n] for i,blah in enumerate(node[::n])]:\n",
    "            nodes.append(x)\n",
    "        nodes.remove(node)\n",
    "    \n",
    "print nodes"
   ]
  },
  {
   "cell_type": "code",
   "execution_count": 33,
   "metadata": {
    "collapsed": false
   },
   "outputs": [
    {
     "name": "stdout",
     "output_type": "stream",
     "text": [
      "1\n",
      "0\n"
     ]
    }
   ],
   "source": [
    "a = {'A1': ['C1'], 'B1': ['C1'], 'C1': ['E1', 'D0'], 'E1': ['F0']}\n",
    "b = {'A1': ['C1'], 'C1': ['E1'], 'E1': ['F0'], 'B1': ['C1']}\n",
    "\n",
    "print cmp(a,b)\n",
    "\n",
    "c = {'A1': ['C1'], 'B1': ['C1'], 'C1': ['E1'], 'E1': ['F0']}\n",
    "print cmp(b,c)"
   ]
  },
  {
   "cell_type": "code",
   "execution_count": 37,
   "metadata": {
    "collapsed": false
   },
   "outputs": [
    {
     "name": "stdout",
     "output_type": "stream",
     "text": [
      "False\n",
      "False\n",
      "True\n",
      "hooray!\n"
     ]
    }
   ],
   "source": [
    "node = 'B0'\n",
    "lst = ['A1', 'B0C1']\n",
    "print node in lst\n",
    "\n",
    "for item in lst:\n",
    "    print node in item\n",
    "    \n",
    "if [node in item for item in lst]:\n",
    "    print 'hooray!'"
   ]
  },
  {
   "cell_type": "code",
   "execution_count": 41,
   "metadata": {
    "collapsed": false
   },
   "outputs": [],
   "source": [
    "string = 'A1'\n",
    "lst = ['B1', 'C1', 'D0F1']"
   ]
  },
  {
   "cell_type": "code",
   "execution_count": 42,
   "metadata": {
    "collapsed": true
   },
   "outputs": [],
   "source": [
    "def swap_0_and_1(*args):\n",
    "    if if '__iter__' in dir(i):\n",
    "    for e in args:\n",
    "        e.replace('0', '2').replace('1', '0').replace('2', '1')\n",
    "    return args"
   ]
  },
  {
   "cell_type": "code",
   "execution_count": 43,
   "metadata": {
    "collapsed": false
   },
   "outputs": [
    {
     "name": "stdout",
     "output_type": "stream",
     "text": [
      "('A1',)\n"
     ]
    }
   ],
   "source": [
    "print swap_0_and_1(string)"
   ]
  },
  {
   "cell_type": "code",
   "execution_count": 45,
   "metadata": {
    "collapsed": false
   },
   "outputs": [
    {
     "name": "stdout",
     "output_type": "stream",
     "text": [
      "{'A1': ['B0']}\n"
     ]
    }
   ],
   "source": [
    "d = {'A1': ['C1', 'B0']}\n",
    "lst = ['B0C1','C1']\n",
    "for i in lst:  # if {key: [A1, A0]} has A1 inside value, remove that value\n",
    "    for key, value in d.items():\n",
    "        if i in value:\n",
    "            d[key].remove(i)\n",
    "print d"
   ]
  },
  {
   "cell_type": "code",
   "execution_count": null,
   "metadata": {
    "collapsed": true
   },
   "outputs": [],
   "source": []
  },
  {
   "cell_type": "code",
   "execution_count": null,
   "metadata": {
    "collapsed": true
   },
   "outputs": [],
   "source": []
  },
  {
   "cell_type": "code",
   "execution_count": null,
   "metadata": {
    "collapsed": true
   },
   "outputs": [],
   "source": []
  },
  {
   "cell_type": "code",
   "execution_count": 71,
   "metadata": {
    "collapsed": true
   },
   "outputs": [],
   "source": [
    "def empty_queue(lst):\n",
    "    if lst == []:\n",
    "        return 'hooray!'\n",
    "    else:\n",
    "        lst.pop()\n",
    "        #print lst\n",
    "        return empty_queue(lst)"
   ]
  },
  {
   "cell_type": "code",
   "execution_count": 72,
   "metadata": {
    "collapsed": false
   },
   "outputs": [
    {
     "name": "stdout",
     "output_type": "stream",
     "text": [
      "hooray!\n"
     ]
    }
   ],
   "source": [
    "print empty_queue(range(10))"
   ]
  },
  {
   "cell_type": "code",
   "execution_count": null,
   "metadata": {
    "collapsed": true
   },
   "outputs": [],
   "source": []
  },
  {
   "cell_type": "code",
   "execution_count": 90,
   "metadata": {
    "collapsed": false
   },
   "outputs": [
    {
     "name": "stdout",
     "output_type": "stream",
     "text": [
      "deque(['A1', 'B1', 'C0'])\n",
      "C0 deque(['A1', 'B1'])\n"
     ]
    }
   ],
   "source": [
    "from collections import deque\n",
    "lst = ['A1', 'B1', 'C0']\n",
    "deq = deque(list(lst))\n",
    "print deq\n",
    "a = deq.pop()\n",
    "print deq"
   ]
  },
  {
   "cell_type": "code",
   "execution_count": null,
   "metadata": {
    "collapsed": true
   },
   "outputs": [],
   "source": []
  },
  {
   "cell_type": "code",
   "execution_count": null,
   "metadata": {
    "collapsed": true
   },
   "outputs": [],
   "source": []
  },
  {
   "cell_type": "code",
   "execution_count": null,
   "metadata": {
    "collapsed": true
   },
   "outputs": [],
   "source": [
    "\n"
   ]
  },
  {
   "cell_type": "code",
   "execution_count": null,
   "metadata": {
    "collapsed": false
   },
   "outputs": [],
   "source": []
  },
  {
   "cell_type": "code",
   "execution_count": 1,
   "metadata": {
    "collapsed": false
   },
   "outputs": [],
   "source": [
    "def flatten_dict_to_list(d):\n",
    "    all_nodes_values = {x for v in d.itervalues() for x in v}\n",
    "    all_nodes_keys = {k for k in d.keys()}\n",
    "    return sorted(list(all_nodes_values | all_nodes_keys))"
   ]
  },
  {
   "cell_type": "code",
   "execution_count": 184,
   "metadata": {
    "collapsed": false
   },
   "outputs": [
    {
     "name": "stdout",
     "output_type": "stream",
     "text": [
      "[[0, 1, 0, 0, 0], [0, 0, 1, 1, 0], [0, 0, 0, 0, 0], [0, 0, 0, 0, 1], [0, 0, 0, 0, 0]]\n"
     ]
    }
   ],
   "source": [
    "# convert dict to adjacency matrix\n",
    "d = {'C1': ['E1', 'D0'], 'E1': ['F0'], 'A1B1': ['C1']}\n",
    "lst = flatten_dict_to_list(d)\n",
    "m = []\n",
    "for node in lst:\n",
    "    if node in d.keys():\n",
    "        m.append([1 if e in d[node] else 0 for e in lst])\n",
    "    else:\n",
    "        m.append([0]*len(lst))\n",
    "    \n",
    "print m\n",
    "    "
   ]
  },
  {
   "cell_type": "code",
   "execution_count": 10,
   "metadata": {
    "collapsed": false
   },
   "outputs": [
    {
     "data": {
      "text/plain": [
       "['A1', 'B1', 'C1', 'D0', 'E1', 'F1', 'G1']"
      ]
     },
     "execution_count": 10,
     "metadata": {},
     "output_type": "execute_result"
    }
   ],
   "source": [
    "d = {'F1': ['G1'], 'A1': ['C1'], 'B1': ['C1'], 'C1': ['E1', 'D0']}\n",
    "flatten_dict_to_list(d)"
   ]
  },
  {
   "cell_type": "code",
   "execution_count": 9,
   "metadata": {
    "collapsed": false
   },
   "outputs": [
    {
     "name": "stdout",
     "output_type": "stream",
     "text": [
      "7\n"
     ]
    }
   ],
   "source": [
    "print sum([len(x) for x in flatten_dict_to_list(d)])/2"
   ]
  },
  {
   "cell_type": "code",
   "execution_count": null,
   "metadata": {
    "collapsed": true
   },
   "outputs": [],
   "source": []
  },
  {
   "cell_type": "code",
   "execution_count": 10,
   "metadata": {
    "collapsed": false
   },
   "outputs": [],
   "source": [
    "d = {'F1': ['G1'], 'A0': ['C0'], 'B0': ['C0'], 'C0': ['E0', 'D1'], 'E0': ['F1']}"
   ]
  },
  {
   "cell_type": "code",
   "execution_count": 11,
   "metadata": {
    "collapsed": true
   },
   "outputs": [],
   "source": [
    "def is_connected(d):\n",
    "    \"\"\"check if the graph is connected\"\"\"\n",
    "    from collections import deque\n",
    "    if d == {}:\n",
    "        return False\n",
    "    else:\n",
    "        v = d.keys()[0]  # pick v at random\n",
    "        deck = deque(d[v])  # queue what goes out of v\n",
    "        visited = [v]  # mark v as visited\n",
    "        for elem in deck:\n",
    "            visited.append(elem)\n",
    "            if elem in d.keys():\n",
    "                deck.append(d[elem])\n",
    "            #deck.popleft()  # remove elem from deck\n",
    "    print flatten_dict_to_list(d)\n",
    "    print visited\n",
    "    if flatten_dict_to_list(d) == visited:\n",
    "        print 'wow'\n",
    "        return True\n",
    "    return False"
   ]
  },
  {
   "cell_type": "code",
   "execution_count": 12,
   "metadata": {
    "collapsed": false
   },
   "outputs": [
    {
     "name": "stdout",
     "output_type": "stream",
     "text": [
      "['A0', 'B0', 'C0', 'D1', 'E0', 'F1', 'G1']\n",
      "['F1', 'G1']\n"
     ]
    },
    {
     "data": {
      "text/plain": [
       "False"
      ]
     },
     "execution_count": 12,
     "metadata": {},
     "output_type": "execute_result"
    }
   ],
   "source": [
    "is_connected(d)"
   ]
  },
  {
   "cell_type": "code",
   "execution_count": null,
   "metadata": {
    "collapsed": true
   },
   "outputs": [],
   "source": []
  }
 ],
 "metadata": {
  "kernelspec": {
   "display_name": "Python 2",
   "language": "python",
   "name": "python2"
  },
  "language_info": {
   "codemirror_mode": {
    "name": "ipython",
    "version": 2
   },
   "file_extension": ".py",
   "mimetype": "text/x-python",
   "name": "python",
   "nbconvert_exporter": "python",
   "pygments_lexer": "ipython2",
   "version": "2.7.11"
  }
 },
 "nbformat": 4,
 "nbformat_minor": 0
}
