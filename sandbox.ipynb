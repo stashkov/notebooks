{
 "cells": [
  {
   "cell_type": "code",
   "execution_count": 3,
   "metadata": {
    "collapsed": false
   },
   "outputs": [],
   "source": [
    "d = dict([('A',0), ('B',0)])"
   ]
  },
  {
   "cell_type": "code",
   "execution_count": 4,
   "metadata": {
    "collapsed": false
   },
   "outputs": [
    {
     "name": "stdout",
     "output_type": "stream",
     "text": [
      "{'A': 0, 'B': 0}\n"
     ]
    }
   ],
   "source": [
    "print d"
   ]
  },
  {
   "cell_type": "code",
   "execution_count": 5,
   "metadata": {
    "collapsed": false
   },
   "outputs": [
    {
     "data": {
      "text/plain": [
       "0"
      ]
     },
     "execution_count": 5,
     "metadata": {},
     "output_type": "execute_result"
    }
   ],
   "source": [
    "d['A']"
   ]
  },
  {
   "cell_type": "code",
   "execution_count": 10,
   "metadata": {
    "collapsed": false
   },
   "outputs": [],
   "source": [
    "d[(('A',0), ('B',0))] = d['A']"
   ]
  },
  {
   "cell_type": "code",
   "execution_count": 11,
   "metadata": {
    "collapsed": false
   },
   "outputs": [
    {
     "name": "stdout",
     "output_type": "stream",
     "text": [
      "{'A': 0, (('A', 0), ('B', 0)): 0, 'B': 0}\n"
     ]
    }
   ],
   "source": [
    "print d"
   ]
  },
  {
   "cell_type": "code",
   "execution_count": 15,
   "metadata": {
    "collapsed": true
   },
   "outputs": [],
   "source": [
    "import networkx as nx"
   ]
  },
  {
   "cell_type": "raw",
   "metadata": {},
   "source": []
  },
  {
   "cell_type": "code",
   "execution_count": 17,
   "metadata": {
    "collapsed": false
   },
   "outputs": [],
   "source": [
    "import urllib2\n",
    "import re\n",
    "pattern = '<td>\\</td>'\n",
    "url_base = 'http://database.research4agrinnovation.org/show/'\n",
    "#url_base = 'http://127.0.0.1:8000/show/'"
   ]
  },
  {
   "cell_type": "code",
   "execution_count": 18,
   "metadata": {
    "collapsed": false
   },
   "outputs": [],
   "source": [
    "for i in range(1,122):\n",
    "    url = url_base + str(i)\n",
    "    response = urllib2.urlopen(url)\n",
    "    html = response.read()\n",
    "    if pattern in html:\n",
    "        print url\n"
   ]
  },
  {
   "cell_type": "code",
   "execution_count": 48,
   "metadata": {
    "collapsed": true
   },
   "outputs": [],
   "source": [
    "d = {}\n",
    "d['A'] = ['C', 'D', 'E']\n",
    "d['B'] = ['Z']\n",
    "d['O'] = []"
   ]
  },
  {
   "cell_type": "code",
   "execution_count": 49,
   "metadata": {
    "collapsed": false
   },
   "outputs": [
    {
     "name": "stdout",
     "output_type": "stream",
     "text": [
      "{'A': ['C', 'D', 'E'], 'B': ['Z'], 'O': []}\n"
     ]
    }
   ],
   "source": [
    "print d"
   ]
  },
  {
   "cell_type": "code",
   "execution_count": 50,
   "metadata": {
    "collapsed": false
   },
   "outputs": [
    {
     "name": "stdout",
     "output_type": "stream",
     "text": [
      "['C', 'D', 'E']\n",
      "False False\n",
      "['Z']\n",
      "False False\n",
      "[]\n",
      "False True\n",
      "{'A': ['C', 'D', 'E'], 'B': ['Z'], 'O': []}\n"
     ]
    }
   ],
   "source": [
    "for key, value in d.items():\n",
    "    print d[key]\n",
    "    print d[key] is [], d[key] == []\n",
    "    if d[key] == []:  # remove key if it has empty values\n",
    "        del d[key]\n",
    "\n",
    "print d"
   ]
  },
  {
   "cell_type": "code",
   "execution_count": 64,
   "metadata": {
    "collapsed": true
   },
   "outputs": [],
   "source": [
    "d = {}\n",
    "d['A1B1'] = ['D1', 'U1']\n",
    "d['A1'] = ['P0']\n",
    "d['B1'] = ['P0']"
   ]
  },
  {
   "cell_type": "code",
   "execution_count": 61,
   "metadata": {
    "collapsed": false
   },
   "outputs": [
    {
     "name": "stdout",
     "output_type": "stream",
     "text": [
      "{'A1B1': ['D1', 'U1']}\n"
     ]
    }
   ],
   "source": [
    "pick = 'A1B1'\n",
    "for key, values in d.items():\n",
    "    if key != pick and key in pick:\n",
    "        del d[key]\n",
    "\n",
    "print d"
   ]
  },
  {
   "cell_type": "code",
   "execution_count": 65,
   "metadata": {
    "collapsed": false
   },
   "outputs": [
    {
     "name": "stdout",
     "output_type": "stream",
     "text": [
      "{'A1': ['P0'], 'B1': ['P0']}\n"
     ]
    }
   ],
   "source": [
    "pick = 'A1'\n",
    "for key, values in d.items():\n",
    "    if key != pick and pick in key:\n",
    "        del d[key]\n",
    "\n",
    "print d"
   ]
  },
  {
   "cell_type": "code",
   "execution_count": 28,
   "metadata": {
    "collapsed": false
   },
   "outputs": [
    {
     "name": "stdout",
     "output_type": "stream",
     "text": [
      "['C0', 'A0', 'B0']\n"
     ]
    }
   ],
   "source": [
    "nodes = ['C0', 'A0B0']\n",
    "n = 2\n",
    "for node in nodes:\n",
    "    if len(node)>n:\n",
    "        for x in [node[i * n:i * n+n] for i,blah in enumerate(node[::n])]:\n",
    "            nodes.append(x)\n",
    "        nodes.remove(node)\n",
    "    \n",
    "print nodes"
   ]
  },
  {
   "cell_type": "code",
   "execution_count": 33,
   "metadata": {
    "collapsed": false
   },
   "outputs": [
    {
     "name": "stdout",
     "output_type": "stream",
     "text": [
      "1\n",
      "0\n"
     ]
    }
   ],
   "source": [
    "a = {'A1': ['C1'], 'B1': ['C1'], 'C1': ['E1', 'D0'], 'E1': ['F0']}\n",
    "b = {'A1': ['C1'], 'C1': ['E1'], 'E1': ['F0'], 'B1': ['C1']}\n",
    "\n",
    "print cmp(a,b)\n",
    "\n",
    "c = {'A1': ['C1'], 'B1': ['C1'], 'C1': ['E1'], 'E1': ['F0']}\n",
    "print cmp(b,c)"
   ]
  },
  {
   "cell_type": "code",
   "execution_count": null,
   "metadata": {
    "collapsed": true
   },
   "outputs": [],
   "source": []
  }
 ],
 "metadata": {
  "kernelspec": {
   "display_name": "Python 2",
   "language": "python",
   "name": "python2"
  },
  "language_info": {
   "codemirror_mode": {
    "name": "ipython",
    "version": 2
   },
   "file_extension": ".py",
   "mimetype": "text/x-python",
   "name": "python",
   "nbconvert_exporter": "python",
   "pygments_lexer": "ipython2",
   "version": "2.7.11"
  }
 },
 "nbformat": 4,
 "nbformat_minor": 0
}
