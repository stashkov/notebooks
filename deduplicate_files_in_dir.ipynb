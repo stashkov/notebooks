{
 "cells": [
  {
   "cell_type": "markdown",
   "metadata": {},
   "source": [
    "# search directory tree for all duplicate files"
   ]
  },
  {
   "cell_type": "markdown",
   "metadata": {},
   "source": [
    "taken from https://www.youtube.com/watch?v=NfngrdLv9ZQ#t=7m55s"
   ]
  },
  {
   "cell_type": "code",
   "execution_count": 3,
   "metadata": {
    "collapsed": false
   },
   "outputs": [],
   "source": [
    "import os, hashlib, pprint"
   ]
  },
  {
   "cell_type": "code",
   "execution_count": 13,
   "metadata": {
    "collapsed": false
   },
   "outputs": [
    {
     "name": "stdout",
     "output_type": "stream",
     "text": [
      "{'01b1688f97f94776baae85d77b06048b': ['.\\\\.git\\\\hooks\\\\pre-commit.sample'],\n",
      " '036208b4a1ab4a235d75c181e685e5a3': ['.\\\\.git\\\\info\\\\exclude'],\n",
      " '054f9ffb8bfe04a599751cc757226dda': ['.\\\\.git\\\\hooks\\\\pre-applypatch.sample'],\n",
      " '1e8fd6124060bbe541588379b5f085c7': ['.\\\\.git\\\\objects\\\\c6\\\\a49b98576f78427208cdb0a38806fed4b01d95'],\n",
      " '2255bb921b5761b70b3ced07c06765f4': ['.\\\\New Microsoft Excel Worksheet.xlsx'],\n",
      " '2b7ea5cee3c49ff53d41e00785eb974c': ['.\\\\.git\\\\hooks\\\\post-update.sample'],\n",
      " '3c5989301dd4b949dfa1f43738a22819': ['.\\\\.git\\\\hooks\\\\pre-push.sample'],\n",
      " '3d82f98f7c188da23b9433af556e78b7': ['.\\\\.git\\\\logs\\\\HEAD',\n",
      "                                      '.\\\\.git\\\\logs\\\\refs\\\\heads\\\\master'],\n",
      " '4af74f7053cbdec723d233ab1ae50c05': ['.\\\\.git\\\\FETCH_HEAD'],\n",
      " '4cf2d64e44205fe628ddd534e1151b58': ['.\\\\.git\\\\HEAD'],\n",
      " '4d2cf2ca92f7b517db5d9b5b27467d19': ['.\\\\Untitled.ipynb'],\n",
      " '51259d7587c59e275afa1ff4adc5d566': ['.\\\\.git\\\\index'],\n",
      " '517f14b9239689dff8bda3022ebd9004': ['.\\\\.git\\\\hooks\\\\update.sample'],\n",
      " '579a3c1e12a1e74a98169175fb913012': ['.\\\\.git\\\\hooks\\\\commit-msg.sample'],\n",
      " '7abc5499d8aad052af4521d1817c38b9': ['.\\\\.git\\\\COMMIT_EDITMSG'],\n",
      " '7dfe15854212a30f346da5255c1d794b': ['.\\\\.git\\\\hooks\\\\prepare-commit-msg.sample'],\n",
      " '81005745454846bb79cc3c7c0c57658d': ['.\\\\.git\\\\hooks\\\\pre-rebase.sample'],\n",
      " 'a0a7c3fff21f2aea3cfa1d0316dd816c': ['.\\\\.git\\\\description'],\n",
      " 'a35c7eae2b9495e5387a454d182053f6': ['.\\\\.git\\\\objects\\\\47\\\\569c7e1d74e0435e40db903f1d950c51360dd4'],\n",
      " 'a6d1017bb9b514fe464f6defd32901be': ['.\\\\.git\\\\refs\\\\heads\\\\master',\n",
      "                                      '.\\\\.git\\\\refs\\\\remotes\\\\origin\\\\master'],\n",
      " 'ae8fe46ac12eff7a383808c8344422bf': ['.\\\\deduplicate_files_in_dir.ipynb',\n",
      "                                      '.\\\\.ipynb_checkpoints\\\\deduplicate_files_in_dir-checkpoint.ipynb'],\n",
      " 'b58e6665552a090ffc99a92e163781d7': ['.\\\\.git\\\\objects\\\\14\\\\89bcae0298a5e9334e94264b14a40b53c8317a'],\n",
      " 'bce4eb8ab2d9dd08a127b10dc58a19c9': ['.\\\\.git\\\\config'],\n",
      " 'bd29f1b7ddfae303eaafe17763ca2635': ['.\\\\.git\\\\logs\\\\refs\\\\remotes\\\\origin\\\\master'],\n",
      " 'c70c34cbeefd40e7c0149b7a0c2c64c2': ['.\\\\.git\\\\objects\\\\e6\\\\9de29bb2d1d6434b8b29ae775ad8c2e48c5391'],\n",
      " 'ce562e08d8098926a3862fc6e7905199': ['.\\\\.git\\\\hooks\\\\applypatch-msg.sample'],\n",
      " 'd41d8cd98f00b204e9800998ecf8427e': ['.\\\\test.ipynb'],\n",
      " 'e4ec0ceddc1a0556d18a1473ba787196': ['.\\\\.ipynb_checkpoints\\\\Untitled-checkpoint.ipynb']}\n"
     ]
    }
   ],
   "source": [
    "hashmap = {}\n",
    "for path, dirs, files in os.walk('.'):\n",
    "    for filename in files:\n",
    "        fullname = os.path.join(path, filename)\n",
    "        with open(fullname) as f:\n",
    "            d = f.read()\n",
    "        h = hashlib.md5(d).hexdigest()\n",
    "        filelist = hashmap.setdefault(h, [])\n",
    "        filelist.append(fullname)\n",
    "\n",
    "pprint.pprint(hashmap)"
   ]
  },
  {
   "cell_type": "code",
   "execution_count": null,
   "metadata": {
    "collapsed": true
   },
   "outputs": [],
   "source": []
  }
 ],
 "metadata": {
  "kernelspec": {
   "display_name": "Python 2",
   "language": "python",
   "name": "python2"
  },
  "language_info": {
   "codemirror_mode": {
    "name": "ipython",
    "version": 2
   },
   "file_extension": ".py",
   "mimetype": "text/x-python",
   "name": "python",
   "nbconvert_exporter": "python",
   "pygments_lexer": "ipython2",
   "version": "2.7.11"
  }
 },
 "nbformat": 4,
 "nbformat_minor": 0
}
